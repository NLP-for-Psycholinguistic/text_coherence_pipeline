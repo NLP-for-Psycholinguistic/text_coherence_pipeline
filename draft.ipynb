{
 "cells": [
  {
   "cell_type": "code",
   "execution_count": 1,
   "metadata": {},
   "outputs": [],
   "source": [
    "%load_ext autoreload"
   ]
  },
  {
   "cell_type": "code",
   "execution_count": 23,
   "metadata": {},
   "outputs": [],
   "source": [
    "%autoreload 2\n",
    "import pandas as pd\n",
    "import numpy as np\n",
    "import matplotlib.pyplot as plt\n",
    "import spacy\n",
    "import spacy_transformers\n",
    "import seaborn as sns\n",
    "import re\n",
    "import pickle\n"
   ]
  },
  {
   "cell_type": "code",
   "execution_count": 6,
   "metadata": {},
   "outputs": [],
   "source": [
    "df = pd.read_pickle( \"/home/samuel/Bureau/text_df_graph.pkl\")"
   ]
  },
  {
   "cell_type": "code",
   "execution_count": 28,
   "metadata": {},
   "outputs": [],
   "source": [
    "test = [ 1.04627452 ,0.60285586 ,-0.4639994 , -0.43288038 , 0.0497877 , -0.8020383 ]"
   ]
  },
  {
   "cell_type": "code",
   "execution_count": 29,
   "metadata": {},
   "outputs": [
    {
     "name": "stdout",
     "output_type": "stream",
     "text": [
      "[1, 2, 3]\n"
     ]
    }
   ],
   "source": [
    "print([1,2,3])"
   ]
  },
  {
   "cell_type": "markdown",
   "metadata": {},
   "source": [
    "# Processing raw text"
   ]
  },
  {
   "cell_type": "code",
   "execution_count": 33,
   "metadata": {},
   "outputs": [],
   "source": [
    "text = pd.read_csv('/home/samuel/Bureau/raw_text.csv')\n",
    "\n",
    "#graph_path = '/home/samuel/Bureau/df_graph_test_verbatim.pkl'\n",
    "#df2 = pd.read_pickle(graph_path)\n",
    "\n",
    "#df = pd.read_hdf('/home/samuel/Bureau/data/etude_1000/clean_13_november_data_v3.h5')"
   ]
  },
  {
   "cell_type": "code",
   "execution_count": 52,
   "metadata": {},
   "outputs": [],
   "source": [
    "def format_text(line)->str:\n",
    "    \"\"\"removes the speaker from the text and replaces it with the [SPEAKER] token, concatenate all content from the text to a single str\"\"\"\n",
    "    text = ''\n",
    "    for elem in line:\n",
    "        if elem['speaker'] == 'enqueteur':\n",
    "            text+=\"\"\n",
    "        else:\n",
    "            text+=elem['text']\n",
    "    return text\n",
    "\n",
    "def text_to_sentences2(text :str)->list:\n",
    "    text = text.replace('?','.')\n",
    "    text = text.replace('!','.')\n",
    "    text = text.replace('...',' ')\n",
    "    text = text.replace('..','.')\n",
    "    text = text.replace('  ',' ')\n",
    "    text = text.replace('*','')\n",
    "    return text.split('.')\n"
   ]
  },
  {
   "cell_type": "code",
   "execution_count": 81,
   "metadata": {},
   "outputs": [],
   "source": [
    "text = df[df['code'].isin(df2['code'].values)]['part_1_1']\n",
    "text = text.apply(format_text)\n",
    "\n",
    "def preprocess_sentences(text:str)->str:\n",
    "    text = re.sub('[.]{2,4}',\"\",text)\n",
    "    text = re.sub(\"[!?]\",\".\",text)\n",
    "    text = re.sub('[*]',\"\",text)\n",
    "    text = re.sub('[ ]{2,}',\" \",text)\n",
    "    return text\n",
    "\n",
    "text = text.map(preprocess_sentences)"
   ]
  },
  {
   "cell_type": "code",
   "execution_count": 83,
   "metadata": {},
   "outputs": [],
   "source": [
    "text.to_csv('/home/samuel/Bureau/raw_text.csv')"
   ]
  },
  {
   "cell_type": "markdown",
   "metadata": {},
   "source": [
    "# Sentence Segmentation results"
   ]
  },
  {
   "cell_type": "code",
   "execution_count": 3,
   "metadata": {},
   "outputs": [],
   "source": [
    "def revert_sentence_segmentation(list_sentences):\n",
    "    for i in range(len(list_sentences)):\n",
    "        try:\n",
    "            if list_sentences[i][0] == ' ':\n",
    "                list_sentences[i] = list_sentences[i][1:]\n",
    "            list_sentences[i] = list_sentences[i].capitalize()\n",
    "        except:\n",
    "            pass\n",
    "    list_sentences.append(' ')\n",
    "    ret = '. '.join(list_sentences)\n",
    "    if ret[-1] != '.':\n",
    "        ret += '.'\n",
    "    return ret"
   ]
  },
  {
   "cell_type": "code",
   "execution_count": 34,
   "metadata": {},
   "outputs": [],
   "source": [
    "def text_to_sentences(text :str)->list:\n",
    "    text = text.replace('?','.')\n",
    "    text = text.replace('!','.')\n",
    "    text = text.replace('...',' ')\n",
    "    text = text.split('.')\n",
    "    return [sentence for sentence in text if sentence.count(' ') > 3]\n",
    "\n",
    "def cut_sentence_by_comma(sentence:str)->list:\n",
    "    sub_sentence = []\n",
    "    s = []\n",
    "    for elem in sentence.replace(',',' , ').split(' '):\n",
    "        s.append(elem)\n",
    "        if len(s)> 50 and elem ==',':\n",
    "            sub_sentence.append(' '.join(s))\n",
    "            s = []\n",
    "    return sub_sentence\n",
    "\n",
    "def text_to_sentences_comma(text:str)->list:\n",
    "    \"\"\"Split the text into sentences, then splits again based on commas if the sentence is too long\"\"\"\n",
    "    sentences = text_to_sentences2(text)\n",
    "    sentences2 = []\n",
    "    for s in sentences:\n",
    "        if s.count(' ')> 100:\n",
    "            #sentence is too long\n",
    "            #split on commas by the middle so that we have two equal sub-sentences \n",
    "            sentences2.extend(cut_sentence_by_comma(s))\n",
    "        else:\n",
    "            sentences2.append(s)\n",
    "    return sentences2\n",
    "\n",
    "def count_words(list_sentences):\n",
    "    lengths = []\n",
    "    for sentence in list_sentences:\n",
    "        lengths.append(len(sentence.split(' ')))\n",
    "    return lengths,np.sum(lengths)\n"
   ]
  },
  {
   "cell_type": "markdown",
   "metadata": {},
   "source": [
    "## First Method (dot separator)"
   ]
  },
  {
   "cell_type": "code",
   "execution_count": 30,
   "metadata": {},
   "outputs": [],
   "source": [
    "df_dot_sep= text.apply(text_to_sentences2)"
   ]
  },
  {
   "cell_type": "code",
   "execution_count": 31,
   "metadata": {},
   "outputs": [],
   "source": [
    "sentences = 0\n",
    "words = 0\n",
    "wrd_sent = []\n",
    "for line in df_dot_sep:\n",
    "    sentences += len(line)\n",
    "    sents,wrd = count_words(line)\n",
    "    wrd_sent.extend(sents)\n",
    "    words += wrd"
   ]
  },
  {
   "cell_type": "code",
   "execution_count": 32,
   "metadata": {},
   "outputs": [
    {
     "data": {
      "text/plain": [
       "74450"
      ]
     },
     "execution_count": 32,
     "metadata": {},
     "output_type": "execute_result"
    }
   ],
   "source": [
    "sentences"
   ]
  },
  {
   "cell_type": "code",
   "execution_count": 33,
   "metadata": {},
   "outputs": [
    {
     "name": "stdout",
     "output_type": "stream",
     "text": [
      "24.654632302015813\n",
      "26.750973807924783\n"
     ]
    }
   ],
   "source": [
    "std = np.std(wrd_sent)\n",
    "print(std)\n",
    "mean = np.mean(wrd_sent)\n",
    "print(mean)"
   ]
  },
  {
   "cell_type": "code",
   "execution_count": 219,
   "metadata": {},
   "outputs": [
    {
     "data": {
      "text/plain": [
       "1.658831430490262"
      ]
     },
     "execution_count": 219,
     "metadata": {},
     "output_type": "execute_result"
    }
   ],
   "source": [
    "outliers = [x for x in wrd_sent if x > mean + 3 * std]\n",
    "(len(outliers)/sentences) * 100"
   ]
  },
  {
   "cell_type": "code",
   "execution_count": 34,
   "metadata": {},
   "outputs": [
    {
     "data": {
      "text/plain": [
       "<Axes: ylabel='Count'>"
      ]
     },
     "execution_count": 34,
     "metadata": {},
     "output_type": "execute_result"
    },
    {
     "data": {
      "image/png": "[encoded data removed]",
      "text/plain": [
       "<Figure size 640x480 with 1 Axes>"
      ]
     },
     "metadata": {},
     "output_type": "display_data"
    }
   ],
   "source": [
    "sns.histplot(wrd_sent,bins=100)"
   ]
  },
  {
   "cell_type": "markdown",
   "metadata": {},
   "source": [
    "## Spacy separator"
   ]
  },
  {
   "cell_type": "code",
   "execution_count": null,
   "metadata": {},
   "outputs": [],
   "source": [
    "try:\n",
    "    nlp = spacy.load(\"fr_dep_news_trf\")\n",
    "except:\n",
    "    !python -m spacy download fr_dep_news_trf\n",
    "    nlp = spacy.load(\"fr_dep_news_trf\")"
   ]
  },
  {
   "cell_type": "code",
   "execution_count": 6,
   "metadata": {},
   "outputs": [],
   "source": [
    "nlp = spacy.load('fr_dep_news_trf')"
   ]
  },
  {
   "cell_type": "code",
   "execution_count": 7,
   "metadata": {},
   "outputs": [],
   "source": [
    "str1 = \"c'est la première phrase c'est la deuxième phrase et c'est la troisième phrase mais non en fait c'est la quatrième phrase\""
   ]
  },
  {
   "cell_type": "code",
   "execution_count": 1,
   "metadata": {},
   "outputs": [
    {
     "ename": "NameError",
     "evalue": "name 'nlp' is not defined",
     "output_type": "error",
     "traceback": [
      "\u001b[0;31m---------------------------------------------------------------------------\u001b[0m",
      "\u001b[0;31mNameError\u001b[0m                                 Traceback (most recent call last)",
      "Cell \u001b[0;32mIn[1], line 1\u001b[0m\n\u001b[0;32m----> 1\u001b[0m \u001b[39mfor\u001b[39;00m sent \u001b[39min\u001b[39;00m nlp(str1)\u001b[39m.\u001b[39msents:\n\u001b[1;32m      2\u001b[0m     \u001b[39mprint\u001b[39m(sent\u001b[39m.\u001b[39mtext)\n",
      "\u001b[0;31mNameError\u001b[0m: name 'nlp' is not defined"
     ]
    }
   ],
   "source": [
    "for sent in nlp(str1).sents:\n",
    "    print(sent.text)"
   ]
  },
  {
   "cell_type": "code",
   "execution_count": 32,
   "metadata": {},
   "outputs": [],
   "source": [
    "df_spacy_sep = df_plain_text.apply(lambda x : text_to_sentences_spacy(x,nlp))"
   ]
  },
  {
   "cell_type": "code",
   "execution_count": 33,
   "metadata": {},
   "outputs": [],
   "source": [
    "sentences = 0\n",
    "words = 0\n",
    "wrd_sent = []\n",
    "for line in df_spacy_sep:\n",
    "    sentences += len(line)\n",
    "    sents,wrd = count_words(line)\n",
    "    wrd_sent.extend(sents)\n",
    "    words += wrd"
   ]
  },
  {
   "cell_type": "code",
   "execution_count": 34,
   "metadata": {},
   "outputs": [
    {
     "data": {
      "text/plain": [
       "22.789698046181172"
      ]
     },
     "execution_count": 34,
     "metadata": {},
     "output_type": "execute_result"
    }
   ],
   "source": [
    "words/sentences"
   ]
  },
  {
   "cell_type": "code",
   "execution_count": 35,
   "metadata": {},
   "outputs": [
    {
     "data": {
      "text/plain": [
       "3.8993487270574305"
      ]
     },
     "execution_count": 35,
     "metadata": {},
     "output_type": "execute_result"
    }
   ],
   "source": [
    "outliers = len([x for x in wrd_sent if x > 3 * words/sentences]) #must be less than 1%\n",
    "(outliers/sentences) * 100"
   ]
  },
  {
   "cell_type": "code",
   "execution_count": 36,
   "metadata": {},
   "outputs": [
    {
     "data": {
      "text/plain": [
       "<Axes: ylabel='Count'>"
      ]
     },
     "execution_count": 36,
     "metadata": {},
     "output_type": "execute_result"
    },
    {
     "data": {
      "image/png": "[encoded data removed]",
      "text/plain": [
       "<Figure size 640x480 with 1 Axes>"
      ]
     },
     "metadata": {},
     "output_type": "display_data"
    }
   ],
   "source": [
    "sns.histplot(wrd_sent,bins=100)"
   ]
  },
  {
   "cell_type": "markdown",
   "metadata": {},
   "source": [
    "## Dot + comma separator"
   ]
  },
  {
   "cell_type": "code",
   "execution_count": 35,
   "metadata": {},
   "outputs": [
    {
     "ename": "NameError",
     "evalue": "name 'text_to_sentences2' is not defined",
     "output_type": "error",
     "traceback": [
      "\u001b[0;31m---------------------------------------------------------------------------\u001b[0m",
      "\u001b[0;31mNameError\u001b[0m                                 Traceback (most recent call last)",
      "Cell \u001b[0;32mIn[35], line 1\u001b[0m\n\u001b[0;32m----> 1\u001b[0m df_comma_dot_sep\u001b[39m=\u001b[39m text\u001b[39m.\u001b[39;49mapply(text_to_sentences_comma)\n",
      "File \u001b[0;32m~/venv/text_coherence_pipeline/lib/python3.9/site-packages/pandas/core/frame.py:9423\u001b[0m, in \u001b[0;36mDataFrame.apply\u001b[0;34m(self, func, axis, raw, result_type, args, **kwargs)\u001b[0m\n\u001b[1;32m   9412\u001b[0m \u001b[39mfrom\u001b[39;00m \u001b[39mpandas\u001b[39;00m\u001b[39m.\u001b[39;00m\u001b[39mcore\u001b[39;00m\u001b[39m.\u001b[39;00m\u001b[39mapply\u001b[39;00m \u001b[39mimport\u001b[39;00m frame_apply\n\u001b[1;32m   9414\u001b[0m op \u001b[39m=\u001b[39m frame_apply(\n\u001b[1;32m   9415\u001b[0m     \u001b[39mself\u001b[39m,\n\u001b[1;32m   9416\u001b[0m     func\u001b[39m=\u001b[39mfunc,\n\u001b[0;32m   (...)\u001b[0m\n\u001b[1;32m   9421\u001b[0m     kwargs\u001b[39m=\u001b[39mkwargs,\n\u001b[1;32m   9422\u001b[0m )\n\u001b[0;32m-> 9423\u001b[0m \u001b[39mreturn\u001b[39;00m op\u001b[39m.\u001b[39;49mapply()\u001b[39m.\u001b[39m__finalize__(\u001b[39mself\u001b[39m, method\u001b[39m=\u001b[39m\u001b[39m\"\u001b[39m\u001b[39mapply\u001b[39m\u001b[39m\"\u001b[39m)\n",
      "File \u001b[0;32m~/venv/text_coherence_pipeline/lib/python3.9/site-packages/pandas/core/apply.py:678\u001b[0m, in \u001b[0;36mFrameApply.apply\u001b[0;34m(self)\u001b[0m\n\u001b[1;32m    675\u001b[0m \u001b[39melif\u001b[39;00m \u001b[39mself\u001b[39m\u001b[39m.\u001b[39mraw:\n\u001b[1;32m    676\u001b[0m     \u001b[39mreturn\u001b[39;00m \u001b[39mself\u001b[39m\u001b[39m.\u001b[39mapply_raw()\n\u001b[0;32m--> 678\u001b[0m \u001b[39mreturn\u001b[39;00m \u001b[39mself\u001b[39;49m\u001b[39m.\u001b[39;49mapply_standard()\n",
      "File \u001b[0;32m~/venv/text_coherence_pipeline/lib/python3.9/site-packages/pandas/core/apply.py:798\u001b[0m, in \u001b[0;36mFrameApply.apply_standard\u001b[0;34m(self)\u001b[0m\n\u001b[1;32m    797\u001b[0m \u001b[39mdef\u001b[39;00m \u001b[39mapply_standard\u001b[39m(\u001b[39mself\u001b[39m):\n\u001b[0;32m--> 798\u001b[0m     results, res_index \u001b[39m=\u001b[39m \u001b[39mself\u001b[39;49m\u001b[39m.\u001b[39;49mapply_series_generator()\n\u001b[1;32m    800\u001b[0m     \u001b[39m# wrap results\u001b[39;00m\n\u001b[1;32m    801\u001b[0m     \u001b[39mreturn\u001b[39;00m \u001b[39mself\u001b[39m\u001b[39m.\u001b[39mwrap_results(results, res_index)\n",
      "File \u001b[0;32m~/venv/text_coherence_pipeline/lib/python3.9/site-packages/pandas/core/apply.py:814\u001b[0m, in \u001b[0;36mFrameApply.apply_series_generator\u001b[0;34m(self)\u001b[0m\n\u001b[1;32m    811\u001b[0m \u001b[39mwith\u001b[39;00m option_context(\u001b[39m\"\u001b[39m\u001b[39mmode.chained_assignment\u001b[39m\u001b[39m\"\u001b[39m, \u001b[39mNone\u001b[39;00m):\n\u001b[1;32m    812\u001b[0m     \u001b[39mfor\u001b[39;00m i, v \u001b[39min\u001b[39;00m \u001b[39menumerate\u001b[39m(series_gen):\n\u001b[1;32m    813\u001b[0m         \u001b[39m# ignore SettingWithCopy here in case the user mutates\u001b[39;00m\n\u001b[0;32m--> 814\u001b[0m         results[i] \u001b[39m=\u001b[39m \u001b[39mself\u001b[39;49m\u001b[39m.\u001b[39;49mf(v)\n\u001b[1;32m    815\u001b[0m         \u001b[39mif\u001b[39;00m \u001b[39misinstance\u001b[39m(results[i], ABCSeries):\n\u001b[1;32m    816\u001b[0m             \u001b[39m# If we have a view on v, we need to make a copy because\u001b[39;00m\n\u001b[1;32m    817\u001b[0m             \u001b[39m#  series_generator will swap out the underlying data\u001b[39;00m\n\u001b[1;32m    818\u001b[0m             results[i] \u001b[39m=\u001b[39m results[i]\u001b[39m.\u001b[39mcopy(deep\u001b[39m=\u001b[39m\u001b[39mFalse\u001b[39;00m)\n",
      "Cell \u001b[0;32mIn[34], line 20\u001b[0m, in \u001b[0;36mtext_to_sentences_comma\u001b[0;34m(text)\u001b[0m\n\u001b[1;32m     18\u001b[0m \u001b[39mdef\u001b[39;00m \u001b[39mtext_to_sentences_comma\u001b[39m(text:\u001b[39mstr\u001b[39m)\u001b[39m-\u001b[39m\u001b[39m>\u001b[39m\u001b[39mlist\u001b[39m:\n\u001b[1;32m     19\u001b[0m \u001b[39m    \u001b[39m\u001b[39m\"\"\"Split the text into sentences, then splits again based on commas if the sentence is too long\"\"\"\u001b[39;00m\n\u001b[0;32m---> 20\u001b[0m     sentences \u001b[39m=\u001b[39m text_to_sentences2(text)\n\u001b[1;32m     21\u001b[0m     sentences2 \u001b[39m=\u001b[39m []\n\u001b[1;32m     22\u001b[0m     \u001b[39mfor\u001b[39;00m s \u001b[39min\u001b[39;00m sentences:\n",
      "\u001b[0;31mNameError\u001b[0m: name 'text_to_sentences2' is not defined"
     ]
    }
   ],
   "source": [
    "df_comma_dot_sep= text.apply(text_to_sentences_comma)"
   ]
  },
  {
   "cell_type": "code",
   "execution_count": 35,
   "metadata": {},
   "outputs": [],
   "source": [
    "sentences = 0\n",
    "words = 0\n",
    "wrd_sent2 = []\n",
    "for line in df_comma_dot_sep:\n",
    "    sentences += len(line)\n",
    "    sents,wrd = count_words(line)\n",
    "    wrd_sent2.extend(sents)\n",
    "    words += wrd"
   ]
  },
  {
   "cell_type": "code",
   "execution_count": 25,
   "metadata": {},
   "outputs": [
    {
     "data": {
      "text/plain": [
       "76410"
      ]
     },
     "execution_count": 25,
     "metadata": {},
     "output_type": "execute_result"
    }
   ],
   "source": [
    "sentences"
   ]
  },
  {
   "cell_type": "code",
   "execution_count": 26,
   "metadata": {},
   "outputs": [
    {
     "name": "stdout",
     "output_type": "stream",
     "text": [
      "18.53936797706385\n",
      "26.154338437377305\n"
     ]
    }
   ],
   "source": [
    "std = np.std(wrd_sent)\n",
    "print(std)\n",
    "mean = np.mean(wrd_sent)\n",
    "print(mean)"
   ]
  },
  {
   "cell_type": "code",
   "execution_count": 27,
   "metadata": {},
   "outputs": [
    {
     "data": {
      "text/plain": [
       "1.4513807093312394"
      ]
     },
     "execution_count": 27,
     "metadata": {},
     "output_type": "execute_result"
    }
   ],
   "source": [
    "outliers = [x for x in wrd_sent if x > mean +3 * std]\n",
    "(len(outliers)/sentences) * 100"
   ]
  },
  {
   "cell_type": "code",
   "execution_count": 43,
   "metadata": {},
   "outputs": [
    {
     "data": {
      "text/plain": [
       "<Axes: ylabel='Density'>"
      ]
     },
     "execution_count": 43,
     "metadata": {},
     "output_type": "execute_result"
    },
    {
     "data": {
      "image/png": "[encoded data removed]",
      "text/plain": [
       "<Figure size 640x480 with 1 Axes>"
      ]
     },
     "metadata": {},
     "output_type": "display_data"
    }
   ],
   "source": [
    "sns.histplot(wrd_sent,bins=100,stat = 'density')\n",
    "sns.histplot(wrd_sent2,bins=100,stat = 'density')"
   ]
  },
  {
   "cell_type": "code",
   "execution_count": 47,
   "metadata": {},
   "outputs": [
    {
     "data": {
      "text/plain": [
       "[]"
      ]
     },
     "execution_count": 47,
     "metadata": {},
     "output_type": "execute_result"
    }
   ],
   "source": [
    "[x for x in wrd_sent2 if x<5]"
   ]
  },
  {
   "cell_type": "code",
   "execution_count": 46,
   "metadata": {},
   "outputs": [
    {
     "data": {
      "text/plain": [
       "<Axes: ylabel='Density'>"
      ]
     },
     "execution_count": 46,
     "metadata": {},
     "output_type": "execute_result"
    },
    {
     "data": {
      "image/png": "[encoded data removed]",
      "text/plain": [
       "<Figure size 640x480 with 1 Axes>"
      ]
     },
     "metadata": {},
     "output_type": "display_data"
    }
   ],
   "source": [
    "sns.histplot([x for x in wrd_sent if x<150],bins=100,stat = 'density')\n",
    "sns.histplot(wrd_sent2,bins=100,stat = 'density')"
   ]
  },
  {
   "cell_type": "code",
   "execution_count": 42,
   "metadata": {},
   "outputs": [
    {
     "data": {
      "text/plain": [
       "<Axes: ylabel='Density'>"
      ]
     },
     "execution_count": 42,
     "metadata": {},
     "output_type": "execute_result"
    },
    {
     "data": {
      "image/png": "[encoded data removed]",
      "text/plain": [
       "<Figure size 640x480 with 1 Axes>"
      ]
     },
     "metadata": {},
     "output_type": "display_data"
    }
   ],
   "source": [
    "sns.histplot(wrd_sent,bins=100,stat = 'density',cumulative=True)\n",
    "sns.histplot(wrd_sent2,bins=100,stat = 'density',cumulative=True)"
   ]
  },
  {
   "cell_type": "markdown",
   "metadata": {},
   "source": [
    "# Other"
   ]
  }
 ],
 "metadata": {
  "kernelspec": {
   "display_name": "text_coherence_pipeline",
   "language": "python",
   "name": "python3"
  },
  "language_info": {
   "codemirror_mode": {
    "name": "ipython",
    "version": 3
   },
   "file_extension": ".py",
   "mimetype": "text/x-python",
   "name": "python",
   "nbconvert_exporter": "python",
   "pygments_lexer": "ipython3",
   "version": "3.9.17"
  },
  "orig_nbformat": 4
 },
 "nbformat": 4,
 "nbformat_minor": 2
}
