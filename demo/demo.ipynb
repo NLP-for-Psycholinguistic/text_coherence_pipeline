{
 "cells": [
  {
   "cell_type": "markdown",
   "metadata": {},
   "source": [
    "# Demonstration with the french presidential campaign discourse corpus"
   ]
  },
  {
   "cell_type": "markdown",
   "metadata": {},
   "source": [
    "## Preprocessing with a raw text file"
   ]
  },
  {
   "cell_type": "markdown",
   "metadata": {},
   "source": [
    "Import the raw corpus and pandas"
   ]
  },
  {
   "cell_type": "code",
   "execution_count": 8,
   "metadata": {},
   "outputs": [],
   "source": [
    "import pandas as pd\n",
    "with open('Campagne2017.txt') as file:\n",
    "    text = file.read()"
   ]
  },
  {
   "cell_type": "markdown",
   "metadata": {},
   "source": [
    "Metadata for each discourse is after **** or *, and the discourse itself is after the metadata."
   ]
  },
  {
   "cell_type": "code",
   "execution_count": 12,
   "metadata": {},
   "outputs": [
    {
     "name": "stdout",
     "output_type": "stream",
     "text": [
      "**** *qui_melenchon *quand_2017-03-17 *id_2017-03-17-melenchon *titre_interview-rmc *annee_2017\n",
      "\n",
      "Les circonstances sont assez extraordinaires. J'avais idée d'écrire un livre sur la vertu. Les circonstances sont devenues celles que vous savez et on a accéléré. J'avais renoncé à l'idée et puis finalement on a fait un livre d'entretiens avec une journaliste qui a une grande capacité à comprendre ma manière bizarroïde de parler et de penser donc c'est un peu abstrait.\n",
      "\n",
      "Parce que je fais de la philo et des lettres, j'ai la tête faite comme ça. donc il faut trouver des interlocuteurs qui entrent dans ce scénario et on a fait ce livre, De la vertu. L'idée c'est qu'il y a une règle qui s'impose à nous mais ce n'est pas facile de dire laquelle, dans l'arène publique et peut être dans notre vie personnelle, parce que l'on ne peut pas parler de morale républicaine ou de morale commune. Après tout vous et moi, nous empruntons notre morale.\n",
      "\n",
      "Nous en avons eu des sources très différentes, l'un peut ...\n"
     ]
    }
   ],
   "source": [
    "print(text[:1000] +\"...\")"
   ]
  },
  {
   "cell_type": "markdown",
   "metadata": {},
   "source": [
    "Preprocessing"
   ]
  },
  {
   "cell_type": "code",
   "execution_count": 13,
   "metadata": {},
   "outputs": [],
   "source": [
    "df = pd.DataFrame(columns=['qui', 'quand', 'id','titre' ,'annee'])\n",
    "\n",
    "while text.find('****')!=-1:\n",
    "    metadata_index = text.find('****')+len('****')\n",
    "    end_metadata_index = text.find('*annee_')+len('*annee_')+4\n",
    "\n",
    "    metadata = text[metadata_index:end_metadata_index].split('*')[1:]\n",
    "    text_dict = {}\n",
    "    for elem in metadata:\n",
    "        elem.split('_')\n",
    "        text_dict[elem.split('_')[0]] = elem.split('_')[1]\n",
    "\n",
    "    text_dict['index'] = [0]\n",
    "    text = text[end_metadata_index:]\n",
    "    text_index = text.find('****')\n",
    "    text_dict['text'] = text[:text_index]\n",
    "    df = pd.concat([df,pd.DataFrame(text_dict)],axis=0)\n",
    "df = df.reset_index()\n",
    "df.drop('level_0',axis=1,inplace=True)\n",
    "df['text'] = df['text'].apply(lambda x: x.replace('\\n',' '))"
   ]
  },
  {
   "cell_type": "code",
   "execution_count": 14,
   "metadata": {},
   "outputs": [
    {
     "data": {
      "text/html": [
       "<div>\n",
       "<style scoped>\n",
       "    .dataframe tbody tr th:only-of-type {\n",
       "        vertical-align: middle;\n",
       "    }\n",
       "\n",
       "    .dataframe tbody tr th {\n",
       "        vertical-align: top;\n",
       "    }\n",
       "\n",
       "    .dataframe thead th {\n",
       "        text-align: right;\n",
       "    }\n",
       "</style>\n",
       "<table border=\"1\" class=\"dataframe\">\n",
       "  <thead>\n",
       "    <tr style=\"text-align: right;\">\n",
       "      <th></th>\n",
       "      <th>qui</th>\n",
       "      <th>quand</th>\n",
       "      <th>id</th>\n",
       "      <th>titre</th>\n",
       "      <th>annee</th>\n",
       "      <th>index</th>\n",
       "      <th>text</th>\n",
       "    </tr>\n",
       "  </thead>\n",
       "  <tbody>\n",
       "    <tr>\n",
       "      <th>0</th>\n",
       "      <td>melenchon</td>\n",
       "      <td>2017-03-17</td>\n",
       "      <td>2017-03-17-melenchon</td>\n",
       "      <td>interview-rmc</td>\n",
       "      <td>2017</td>\n",
       "      <td>0.0</td>\n",
       "      <td>Les circonstances sont assez extraordinaires...</td>\n",
       "    </tr>\n",
       "    <tr>\n",
       "      <th>1</th>\n",
       "      <td>melenchon</td>\n",
       "      <td>2016-10-10</td>\n",
       "      <td>2016-10-10-melenchon</td>\n",
       "      <td>tribune-inconnu</td>\n",
       "      <td>2016</td>\n",
       "      <td>0.0</td>\n",
       "      <td>Ma candidature est d'abord celle d'un progra...</td>\n",
       "    </tr>\n",
       "    <tr>\n",
       "      <th>2</th>\n",
       "      <td>melenchon</td>\n",
       "      <td>2016-12-15</td>\n",
       "      <td>2016-12-15-melenchon</td>\n",
       "      <td>article-inconnu</td>\n",
       "      <td>2016</td>\n",
       "      <td>0.0</td>\n",
       "      <td>Nous n'avons pas de sympathie pour Poutine, ...</td>\n",
       "    </tr>\n",
       "  </tbody>\n",
       "</table>\n",
       "</div>"
      ],
      "text/plain": [
       "          qui        quand                     id             titre annee  \\\n",
       "0  melenchon   2017-03-17   2017-03-17-melenchon     interview-rmc   2017   \n",
       "1  melenchon   2016-10-10   2016-10-10-melenchon   tribune-inconnu   2016   \n",
       "2  melenchon   2016-12-15   2016-12-15-melenchon   article-inconnu   2016   \n",
       "\n",
       "   index                                               text  \n",
       "0    0.0    Les circonstances sont assez extraordinaires...  \n",
       "1    0.0    Ma candidature est d'abord celle d'un progra...  \n",
       "2    0.0    Nous n'avons pas de sympathie pour Poutine, ...  "
      ]
     },
     "execution_count": 14,
     "metadata": {},
     "output_type": "execute_result"
    }
   ],
   "source": [
    "df.head(3)"
   ]
  },
  {
   "cell_type": "code",
   "execution_count": 15,
   "metadata": {},
   "outputs": [],
   "source": [
    "df.to_csv('campagne_2017_cleaned.csv')"
   ]
  },
  {
   "cell_type": "code",
   "execution_count": null,
   "metadata": {},
   "outputs": [],
   "source": []
  },
  {
   "cell_type": "markdown",
   "metadata": {},
   "source": [
    "## Generate examples based on this corpus"
   ]
  },
  {
   "cell_type": "code",
   "execution_count": 24,
   "metadata": {},
   "outputs": [
    {
     "name": "stderr",
     "output_type": "stream",
     "text": [
      "/home/samuel/venv/text_coherence_pipeline/lib/python3.9/site-packages/tqdm/auto.py:21: TqdmWarning: IProgress not found. Please update jupyter and ipywidgets. See https://ipywidgets.readthedocs.io/en/stable/user_install.html\n",
      "  from .autonotebook import tqdm as notebook_tqdm\n"
     ]
    }
   ],
   "source": [
    "import sys\n",
    "sys.path.append('../')\n",
    "from main_extract import main as main_extract\n",
    "from main_verbatim import main as main_verbatim"
   ]
  },
  {
   "cell_type": "markdown",
   "metadata": {},
   "source": [
    "Using main extract to process the text further, compute the sentence embeddings and create the similarity graphs."
   ]
  },
  {
   "cell_type": "code",
   "execution_count": null,
   "metadata": {},
   "outputs": [],
   "source": [
    "corpus_df = main_extract('campagne_2017_cleaned.csv',config_path=\"../config.yaml\")"
   ]
  },
  {
   "cell_type": "code",
   "execution_count": null,
   "metadata": {},
   "outputs": [],
   "source": [
    "corpus_df.head(3)"
   ]
  },
  {
   "cell_type": "markdown",
   "metadata": {},
   "source": [
    "Saving the created dataframe in pickle format."
   ]
  },
  {
   "cell_type": "code",
   "execution_count": null,
   "metadata": {},
   "outputs": [],
   "source": [
    "corpus_df.to_pickle('campagne_2017_cleaned_withgraph.pkl')"
   ]
  },
  {
   "cell_type": "markdown",
   "metadata": {},
   "source": [
    "Using the dataframe with graphs to generate examples."
   ]
  },
  {
   "cell_type": "code",
   "execution_count": null,
   "metadata": {},
   "outputs": [],
   "source": [
    "main_verbatim('campagne_2017_cleaned_withgraph.pkl',config_path=\"config.yaml\")"
   ]
  }
 ],
 "metadata": {
  "kernelspec": {
   "display_name": "text_coherence_pipeline",
   "language": "python",
   "name": "python3"
  },
  "language_info": {
   "codemirror_mode": {
    "name": "ipython",
    "version": 3
   },
   "file_extension": ".py",
   "mimetype": "text/x-python",
   "name": "python",
   "nbconvert_exporter": "python",
   "pygments_lexer": "ipython3",
   "version": "3.9.17"
  },
  "orig_nbformat": 4
 },
 "nbformat": 4,
 "nbformat_minor": 2
}
