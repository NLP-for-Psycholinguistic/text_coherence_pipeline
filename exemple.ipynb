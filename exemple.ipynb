{
 "cells": [
  {
   "cell_type": "markdown",
   "metadata": {},
   "source": [
    "# Tool Usage"
   ]
  },
  {
   "cell_type": "markdown",
   "metadata": {},
   "source": [
    "Imports"
   ]
  },
  {
   "cell_type": "code",
   "execution_count": 1,
   "metadata": {},
   "outputs": [],
   "source": [
    "import os\n",
    "import pandas as pd"
   ]
  },
  {
   "cell_type": "code",
   "execution_count": 2,
   "metadata": {},
   "outputs": [
    {
     "name": "stderr",
     "output_type": "stream",
     "text": [
      "/home/samuel/venv/text_coherence_pipeline/lib/python3.9/site-packages/tqdm/auto.py:21: TqdmWarning: IProgress not found. Please update jupyter and ipywidgets. See https://ipywidgets.readthedocs.io/en/stable/user_install.html\n",
      "  from .autonotebook import tqdm as notebook_tqdm\n"
     ]
    }
   ],
   "source": [
    "from main_extract import main as main_extract\n",
    "from main_verbatim import main as main_verbatim"
   ]
  },
  {
   "cell_type": "code",
   "execution_count": 3,
   "metadata": {},
   "outputs": [],
   "source": [
    "corpus_file_path = \"/home/samuel/raw_text.csv\"\n",
    "\n",
    "# Verify that the path points to a csv of pickle file\n",
    "assert os.path.isfile(corpus_file_path)\n",
    "assert corpus_file_path.endswith(\".csv\") or corpus_file_path.endswith(\".pkl\")\n",
    "\n",
    "# Extract text\n",
    "corpus_df = pd.read_csv(corpus_file_path)"
   ]
  },
  {
   "cell_type": "markdown",
   "metadata": {},
   "source": [
    "Make sure the dataset is in dataframe format, with each text of the corpus being in a 'text' column."
   ]
  },
  {
   "cell_type": "code",
   "execution_count": 4,
   "metadata": {},
   "outputs": [],
   "source": [
    "# Verify that the text column is present\n",
    "assert 'text' in corpus_df.columns"
   ]
  },
  {
   "cell_type": "code",
   "execution_count": 5,
   "metadata": {},
   "outputs": [],
   "source": [
    "# If not, rename our text column to 'text'\n",
    "text_column_name = 'part_1_1'\n",
    "try :\n",
    "    corpus_df.rename({text_column_name:'text'},axis = 1,inplace=True)\n",
    "    corpus_df.to_csv(corpus_file_path,index=False)\n",
    "except:\n",
    "    pass"
   ]
  },
  {
   "cell_type": "markdown",
   "metadata": {},
   "source": [
    "Separate sentences and apply preprocessing on the corpus. Also computing similarity graphs and storing them in the dataframe."
   ]
  },
  {
   "cell_type": "code",
   "execution_count": 6,
   "metadata": {},
   "outputs": [],
   "source": [
    "corpus_df = main_extract(corpus_file_path,config_path=\"config.yaml\")"
   ]
  },
  {
   "cell_type": "code",
   "execution_count": 7,
   "metadata": {},
   "outputs": [],
   "source": [
    "# Storing the corpus with text, graphs and embedding in a pickle file\n",
    "corpus_file_path = corpus_file_path.replace(\".csv\",\".pkl\")\n",
    "corpus_df.to_pickle(corpus_file_path)"
   ]
  },
  {
   "cell_type": "markdown",
   "metadata": {},
   "source": [
    "Getting exemples from the newly created dataframe."
   ]
  },
  {
   "cell_type": "code",
   "execution_count": null,
   "metadata": {},
   "outputs": [],
   "source": [
    "main_verbatim(corpus_file_path,config_path=\"config.yaml\")"
   ]
  },
  {
   "cell_type": "markdown",
   "metadata": {},
   "source": [
    "# Additionnal Information"
   ]
  },
  {
   "cell_type": "markdown",
   "metadata": {},
   "source": [
    "## Run from command line"
   ]
  },
  {
   "cell_type": "code",
   "execution_count": null,
   "metadata": {},
   "outputs": [],
   "source": [
    "# Run from command line\n",
    "!python main_extract.py $corpus_file_path"
   ]
  },
  {
   "cell_type": "markdown",
   "metadata": {},
   "source": [
    "The similarity graph dataset is stored in the path specified in the config file:"
   ]
  },
  {
   "cell_type": "code",
   "execution_count": 14,
   "metadata": {},
   "outputs": [
    {
     "name": "stdout",
     "output_type": "stream",
     "text": [
      "/home/samuel/Bureau/text_df_graph.pkl\n"
     ]
    }
   ],
   "source": [
    "from src.text_processing import load_config\n",
    "config_dict = load_config(\"config.yaml\")\n",
    "corpus_pickle_path = config_dict[\"storage\"]\n",
    "print(corpus_pickle_path)"
   ]
  },
  {
   "cell_type": "code",
   "execution_count": null,
   "metadata": {},
   "outputs": [],
   "source": [
    "!python main_verbatim.py $corpus_pickle_path"
   ]
  },
  {
   "cell_type": "markdown",
   "metadata": {},
   "source": [
    "Then the exemples are stored automatically in the second specified path in the config file:"
   ]
  },
  {
   "cell_type": "code",
   "execution_count": 16,
   "metadata": {},
   "outputs": [
    {
     "name": "stdout",
     "output_type": "stream",
     "text": [
      "/home/samuel/Bureau/text_df_graph_exemples.csv\n"
     ]
    }
   ],
   "source": [
    "exemples_path = config_dict['storage_exemples']\n",
    "print(exemples_path)"
   ]
  },
  {
   "cell_type": "markdown",
   "metadata": {},
   "source": [
    "## Compute statistics on the corpus "
   ]
  }
 ],
 "metadata": {
  "kernelspec": {
   "display_name": "text_coherence_pipeline",
   "language": "python",
   "name": "python3"
  },
  "language_info": {
   "codemirror_mode": {
    "name": "ipython",
    "version": 3
   },
   "file_extension": ".py",
   "mimetype": "text/x-python",
   "name": "python",
   "nbconvert_exporter": "python",
   "pygments_lexer": "ipython3",
   "version": "3.9.17"
  },
  "orig_nbformat": 4
 },
 "nbformat": 4,
 "nbformat_minor": 2
}
